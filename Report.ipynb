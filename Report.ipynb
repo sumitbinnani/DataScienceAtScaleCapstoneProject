{
 "cells": [
  {
   "cell_type": "markdown",
   "metadata": {},
   "source": [
    "# Data Science at Scale: Capstone Project\n",
    "\n",
    "#### Submitted by: Sumit Binnani <sumit.binnani@gmail.com>"
   ]
  },
  {
   "cell_type": "markdown",
   "metadata": {},
   "source": [
    "The jupyter notebooks for the code is available in the github repository mentioned in the following link.<br/>\n",
    "**Link**: <https://github.com/sumitbinnani/DataScienceAtScaleCapstoneProject><br/>\n",
    "**DataSource**: <https://github.com/uwescience/datasci_course_materials/tree/master/capstone/blight>"
   ]
  },
  {
   "cell_type": "markdown",
   "metadata": {},
   "source": [
    "## Pre-processing"
   ]
  },
  {
   "cell_type": "markdown",
   "metadata": {},
   "source": [
    "1. Extract Latitude/Longitude from the provided files\n",
    "2. Remove records falling outside the range of detroit city\n",
    "3. The building ids were assigned by dividing the detroit region using Geohashes (<https://en.wikipedia.org/wiki/Geohash>)\n",
    "4. Extract features for each geohashes in the dataset (feature details in next section)"
   ]
  },
  {
   "cell_type": "markdown",
   "metadata": {},
   "source": [
    "I also tried assigning building address using Google's reverse geocoding api (<https://developers.google.com/maps/documentation/geocoding/intro>). I, however, ran out of my quota for api calls, and wasn't able to generate building ids for the complete data in given time frame."
   ]
  },
  {
   "cell_type": "markdown",
   "metadata": {},
   "source": [
    "## Model"
   ]
  },
  {
   "cell_type": "markdown",
   "metadata": {},
   "source": [
    "### Features Used"
   ]
  },
  {
   "cell_type": "markdown",
   "metadata": {},
   "source": [
    "I used following features for given building:\n",
    "    1. Count of Violations,\n",
    "    2. Count of Crimes,\n",
    "    3. Count of Calls,\n",
    "    4. Count of Violation Category (0 and 1),\n",
    "    5. Count for violation's payments: made/not made/partially made,\n",
    "    6. Count of types of crime reported,\n",
    "    7. Count of open, closed, acknowleged, and archived tickets, etc."
   ]
  },
  {
   "cell_type": "markdown",
   "metadata": {},
   "source": [
    "### Feature Importance obtained using Random Forest\n",
    "\n",
    "The top 30 feature importance as returned by Random Forest Classifier with 500 trees is as shown in the following image:<br/><br/>\n",
    "<img src=\"images/feature_importance_top_30.png\" style=\"width:80%\">"
   ]
  },
  {
   "cell_type": "markdown",
   "metadata": {},
   "source": [
    "### Final Model: Simplified XGBoost with selected a Features"
   ]
  },
  {
   "cell_type": "markdown",
   "metadata": {},
   "source": [
    "The final model was trained with a selected few features and tree depth restrcited to 4. Restricting tree size not only makes the model easy to interpret, but also makes it immune to overfitting. The features to train the final model were:\n",
    "* Count of Violations, 311 Calls, and Crimes\n",
    "* Count of Violation Category, Call Rating\n",
    "\n",
    "**The AUC of final model is 0.692**. It can be seen that the AUC of the final model and AUC of Model trained with all the derived features (0.710) is comparable. with feature importance as <br/><br/>\n",
    "<img src=\"images/feature_importance_simplified_model.png\" style=\"width:80%\">"
   ]
  },
  {
   "cell_type": "markdown",
   "metadata": {},
   "source": [
    "### ROC Curve for all the models"
   ]
  },
  {
   "cell_type": "markdown",
   "metadata": {},
   "source": [
    "ROC curve for all the models:\n",
    "    1. Random Forest with 500 trees\n",
    "    2. XGBoost with all the features\n",
    "    3. XGboost with a selected few features\n",
    "    \n",
    "<img src=\"images/roc_curve.png\" style=\"height: 500px\">"
   ]
  },
  {
   "cell_type": "markdown",
   "metadata": {},
   "source": [
    "## How can the model be improved?"
   ]
  },
  {
   "cell_type": "markdown",
   "metadata": {},
   "source": [
    "* Generated building ids based on Reverse-GeoCoding Services.\n",
    "* Using time based feature along with some decay factor on basis of time date and time when the builing was blighted."
   ]
  },
  {
   "cell_type": "markdown",
   "metadata": {},
   "source": [
    "## Thanks!"
   ]
  }
 ],
 "metadata": {
  "anaconda-cloud": {},
  "kernelspec": {
   "display_name": "Python [conda env:sdcnd]",
   "language": "python",
   "name": "conda-env-sdcnd-py"
  },
  "language_info": {
   "codemirror_mode": {
    "name": "ipython",
    "version": 3
   },
   "file_extension": ".py",
   "mimetype": "text/x-python",
   "name": "python",
   "nbconvert_exporter": "python",
   "pygments_lexer": "ipython3",
   "version": "3.5.2"
  }
 },
 "nbformat": 4,
 "nbformat_minor": 0
}
