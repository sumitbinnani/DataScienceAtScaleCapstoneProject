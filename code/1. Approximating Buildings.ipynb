{
 "cells": [
  {
   "cell_type": "markdown",
   "metadata": {},
   "source": [
    "# 1. Approximating Building"
   ]
  },
  {
   "cell_type": "markdown",
   "metadata": {},
   "source": [
    "The building are approximated using 7-bit Geohashes (<https://en.wikipedia.org/wiki/Geohash>)"
   ]
  },
  {
   "cell_type": "code",
   "execution_count": 1,
   "metadata": {
    "collapsed": false
   },
   "outputs": [],
   "source": [
    "import numpy as np\n",
    "import pygeohash as pgh\n",
    "\n",
    "\n",
    "import pandas as pd\n",
    "pd.options.display.max_columns = None\n",
    "\n",
    "import matplotlib.pyplot as plt\n",
    "%matplotlib inline\n",
    "\n",
    "import seaborn as sns\n",
    "\n",
    "from IPython.display import Image"
   ]
  },
  {
   "cell_type": "markdown",
   "metadata": {},
   "source": [
    "## Creating ID Key for all the Incidents"
   ]
  },
  {
   "cell_type": "code",
   "execution_count": 2,
   "metadata": {
    "collapsed": false
   },
   "outputs": [],
   "source": [
    "permits = pd.read_table('../data/detroit-demolition-permits.tsv')\n",
    "start_id, end_id = 0, len(permits)\n",
    "permits['unique_id'] = range(start_id, end_id)"
   ]
  },
  {
   "cell_type": "code",
   "execution_count": 3,
   "metadata": {
    "collapsed": false
   },
   "outputs": [
    {
     "name": "stderr",
     "output_type": "stream",
     "text": [
      "C:\\Users\\sumit\\Anaconda3\\envs\\sdcnd\\lib\\site-packages\\IPython\\core\\interactiveshell.py:2717: DtypeWarning: Columns (6,10,11,12) have mixed types. Specify dtype option on import or set low_memory=False.\n",
      "  interactivity=interactivity, compiler=compiler, result=result)\n"
     ]
    }
   ],
   "source": [
    "violations = pd.read_csv('../data/detroit-blight-violations.csv')\n",
    "start_id += len(permits)\n",
    "end_id += len(violations)\n",
    "violations['unique_id'] = range(start_id, end_id)"
   ]
  },
  {
   "cell_type": "code",
   "execution_count": 4,
   "metadata": {
    "collapsed": false
   },
   "outputs": [
    {
     "name": "stderr",
     "output_type": "stream",
     "text": [
      "C:\\Users\\sumit\\Anaconda3\\envs\\sdcnd\\lib\\site-packages\\IPython\\core\\interactiveshell.py:2717: DtypeWarning: Columns (2) have mixed types. Specify dtype option on import or set low_memory=False.\n",
      "  interactivity=interactivity, compiler=compiler, result=result)\n"
     ]
    }
   ],
   "source": [
    "crimes = pd.read_csv('../data/detroit-crime.csv')\n",
    "start_id += len(violations)\n",
    "end_id += len(crimes)\n",
    "crimes['unique_id'] = range(start_id, end_id)"
   ]
  },
  {
   "cell_type": "code",
   "execution_count": 5,
   "metadata": {
    "collapsed": true
   },
   "outputs": [],
   "source": [
    "calls = pd.read_csv('../data/detroit-311.csv')\n",
    "start_id += len(crimes)\n",
    "end_id += len(calls)\n",
    "calls['unique_id'] = range(start_id, end_id)"
   ]
  },
  {
   "cell_type": "markdown",
   "metadata": {},
   "source": [
    "## Extracting Latitude-Longitude and Assigning Building ID"
   ]
  },
  {
   "cell_type": "markdown",
   "metadata": {},
   "source": [
    "### Permits"
   ]
  },
  {
   "cell_type": "code",
   "execution_count": 6,
   "metadata": {
    "collapsed": false
   },
   "outputs": [
    {
     "data": {
      "text/html": [
       "<div>\n",
       "<table border=\"1\" class=\"dataframe\">\n",
       "  <thead>\n",
       "    <tr style=\"text-align: right;\">\n",
       "      <th></th>\n",
       "      <th>PERMIT_NO</th>\n",
       "      <th>PERMIT_APPLIED</th>\n",
       "      <th>PERMIT_ISSUED</th>\n",
       "      <th>PERMIT_EXPIRES</th>\n",
       "      <th>SITE_ADDRESS</th>\n",
       "      <th>BETWEEN1</th>\n",
       "      <th>PARCEL_NO</th>\n",
       "      <th>LOT_NUMBER</th>\n",
       "      <th>SUBDIVISION</th>\n",
       "      <th>CASE_TYPE</th>\n",
       "      <th>CASE_DESCRIPTION</th>\n",
       "      <th>LEGAL_USE</th>\n",
       "      <th>ESTIMATED_COST</th>\n",
       "      <th>PARCEL_SIZE</th>\n",
       "      <th>PARCEL_CLUSTER_SECTOR</th>\n",
       "      <th>STORIES</th>\n",
       "      <th>PARCEL_FLOOR_AREA</th>\n",
       "      <th>PARCEL_GROUND_AREA</th>\n",
       "      <th>PRC_AKA_ADDRESS</th>\n",
       "      <th>BLD_PERMIT_TYPE</th>\n",
       "      <th>PERMIT_DESCRIPTION</th>\n",
       "      <th>BLD_PERMIT_DESC</th>\n",
       "      <th>BLD_TYPE_USE</th>\n",
       "      <th>RESIDENTIAL</th>\n",
       "      <th>DESCRIPTION</th>\n",
       "      <th>BLD_TYPE_CONST_COD</th>\n",
       "      <th>BLD_ZONING_DIST</th>\n",
       "      <th>BLD_USE_GROUP</th>\n",
       "      <th>BLD_BASEMENT</th>\n",
       "      <th>FEE_TYPE</th>\n",
       "      <th>CSM_CASENO</th>\n",
       "      <th>CSF_CREATED_BY</th>\n",
       "      <th>SEQ_NO</th>\n",
       "      <th>PCF_AMT_PD</th>\n",
       "      <th>PCF_AMT_DUE</th>\n",
       "      <th>PCF_UPDATED</th>\n",
       "      <th>OWNER_LAST_NAME</th>\n",
       "      <th>OWNER_FIRST_NAME</th>\n",
       "      <th>OWNER_ADDRESS1</th>\n",
       "      <th>OWNER_ADDRESS2</th>\n",
       "      <th>OWNER_CITY</th>\n",
       "      <th>OWNER_STATE</th>\n",
       "      <th>OWNER_ZIP</th>\n",
       "      <th>CONTRACTOR_LAST_NAME</th>\n",
       "      <th>CONTRACTOR_FIRST_NAME</th>\n",
       "      <th>CONTRACTOR_ADDRESS1</th>\n",
       "      <th>CONTRACTOR_ADDRESS2</th>\n",
       "      <th>CONTRACTOR_CITY</th>\n",
       "      <th>CONTRACTOR_STATE</th>\n",
       "      <th>CONTRACTOR_ZIP</th>\n",
       "      <th>CONDITION_FOR_APPROVAL</th>\n",
       "      <th>site_location</th>\n",
       "      <th>owner_location</th>\n",
       "      <th>contractor_location</th>\n",
       "      <th>geom</th>\n",
       "      <th>unique_id</th>\n",
       "    </tr>\n",
       "  </thead>\n",
       "  <tbody>\n",
       "    <tr>\n",
       "      <th>0</th>\n",
       "      <td>BLD2015-03955</td>\n",
       "      <td>8/28/15</td>\n",
       "      <td>8/28/15</td>\n",
       "      <td>NaN</td>\n",
       "      <td>4331  BARHAM</td>\n",
       "      <td>BETWEEN VOIGHT AND WAVENEY</td>\n",
       "      <td>21 65525-6</td>\n",
       "      <td>S15</td>\n",
       "      <td>NaN</td>\n",
       "      <td>BLD</td>\n",
       "      <td>Building Permit</td>\n",
       "      <td>I - FAM DWLG</td>\n",
       "      <td>NaN</td>\n",
       "      <td>5184.0</td>\n",
       "      <td>3.0</td>\n",
       "      <td>NaN</td>\n",
       "      <td>0.0</td>\n",
       "      <td>829.0</td>\n",
       "      <td>NaN</td>\n",
       "      <td>Dismantle</td>\n",
       "      <td>NaN</td>\n",
       "      <td>NaN</td>\n",
       "      <td>One Family Dwelling</td>\n",
       "      <td>RESIDENTIAL</td>\n",
       "      <td>NaN</td>\n",
       "      <td>5B</td>\n",
       "      <td>R2</td>\n",
       "      <td>R3</td>\n",
       "      <td>Y</td>\n",
       "      <td>WPMT</td>\n",
       "      <td>BLD2015-03955</td>\n",
       "      <td>RSA</td>\n",
       "      <td>1</td>\n",
       "      <td>NaN</td>\n",
       "      <td>$238.00</td>\n",
       "      <td>NaN</td>\n",
       "      <td>DETROIT LAND BANK-HHF2</td>\n",
       "      <td>NaN</td>\n",
       "      <td>65 CADILLAC</td>\n",
       "      <td>NaN</td>\n",
       "      <td>DETROIT</td>\n",
       "      <td>MI</td>\n",
       "      <td>NaN</td>\n",
       "      <td>DMC CONSULTANTS INC   2015 (W)</td>\n",
       "      <td>NaN</td>\n",
       "      <td>13500 FOLEY</td>\n",
       "      <td>NaN</td>\n",
       "      <td>DETROIT</td>\n",
       "      <td>NaN</td>\n",
       "      <td>48227.0</td>\n",
       "      <td>NaN</td>\n",
       "      <td>4331 BARHAM\\nDetroit, MI\\n(42.394106, -82.9474)</td>\n",
       "      <td>65 CADILLAC\\nDETROIT, MI\\n(42.331741326000042,...</td>\n",
       "      <td>13500 FOLEY\\nDETROIT, MI\\n(42.379332, -83.177501)</td>\n",
       "      <td>NaN</td>\n",
       "      <td>0</td>\n",
       "    </tr>\n",
       "  </tbody>\n",
       "</table>\n",
       "</div>"
      ],
      "text/plain": [
       "       PERMIT_NO PERMIT_APPLIED PERMIT_ISSUED PERMIT_EXPIRES  SITE_ADDRESS  \\\n",
       "0  BLD2015-03955        8/28/15       8/28/15            NaN  4331  BARHAM   \n",
       "\n",
       "                     BETWEEN1   PARCEL_NO LOT_NUMBER SUBDIVISION CASE_TYPE  \\\n",
       "0  BETWEEN VOIGHT AND WAVENEY  21 65525-6        S15         NaN       BLD   \n",
       "\n",
       "  CASE_DESCRIPTION     LEGAL_USE ESTIMATED_COST  PARCEL_SIZE  \\\n",
       "0  Building Permit  I - FAM DWLG            NaN       5184.0   \n",
       "\n",
       "   PARCEL_CLUSTER_SECTOR  STORIES  PARCEL_FLOOR_AREA  PARCEL_GROUND_AREA  \\\n",
       "0                    3.0      NaN                0.0               829.0   \n",
       "\n",
       "  PRC_AKA_ADDRESS BLD_PERMIT_TYPE PERMIT_DESCRIPTION BLD_PERMIT_DESC  \\\n",
       "0             NaN       Dismantle                NaN             NaN   \n",
       "\n",
       "          BLD_TYPE_USE  RESIDENTIAL DESCRIPTION BLD_TYPE_CONST_COD  \\\n",
       "0  One Family Dwelling  RESIDENTIAL         NaN                 5B   \n",
       "\n",
       "  BLD_ZONING_DIST BLD_USE_GROUP BLD_BASEMENT FEE_TYPE     CSM_CASENO  \\\n",
       "0              R2            R3            Y     WPMT  BLD2015-03955   \n",
       "\n",
       "  CSF_CREATED_BY  SEQ_NO PCF_AMT_PD PCF_AMT_DUE PCF_UPDATED  \\\n",
       "0            RSA       1        NaN     $238.00         NaN   \n",
       "\n",
       "          OWNER_LAST_NAME OWNER_FIRST_NAME OWNER_ADDRESS1 OWNER_ADDRESS2  \\\n",
       "0  DETROIT LAND BANK-HHF2              NaN    65 CADILLAC            NaN   \n",
       "\n",
       "  OWNER_CITY OWNER_STATE OWNER_ZIP            CONTRACTOR_LAST_NAME  \\\n",
       "0    DETROIT          MI       NaN  DMC CONSULTANTS INC   2015 (W)   \n",
       "\n",
       "  CONTRACTOR_FIRST_NAME CONTRACTOR_ADDRESS1 CONTRACTOR_ADDRESS2  \\\n",
       "0                   NaN         13500 FOLEY                 NaN   \n",
       "\n",
       "  CONTRACTOR_CITY CONTRACTOR_STATE  CONTRACTOR_ZIP CONDITION_FOR_APPROVAL  \\\n",
       "0         DETROIT              NaN         48227.0                    NaN   \n",
       "\n",
       "                                     site_location  \\\n",
       "0  4331 BARHAM\\nDetroit, MI\\n(42.394106, -82.9474)   \n",
       "\n",
       "                                      owner_location  \\\n",
       "0  65 CADILLAC\\nDETROIT, MI\\n(42.331741326000042,...   \n",
       "\n",
       "                                 contractor_location geom  unique_id  \n",
       "0  13500 FOLEY\\nDETROIT, MI\\n(42.379332, -83.177501)  NaN          0  "
      ]
     },
     "execution_count": 6,
     "metadata": {},
     "output_type": "execute_result"
    }
   ],
   "source": [
    "permits.head(1)"
   ]
  },
  {
   "cell_type": "code",
   "execution_count": 7,
   "metadata": {
    "collapsed": false
   },
   "outputs": [
    {
     "data": {
      "text/plain": [
       "<seaborn.axisgrid.FacetGrid at 0x2943a84c630>"
      ]
     },
     "execution_count": 7,
     "metadata": {},
     "output_type": "execute_result"
    },
    {
     "data": {
      "image/png": "[encoded data removed]",
      "text/plain": [
       "<matplotlib.figure.Figure at 0x2943a84c6d8>"
      ]
     },
     "metadata": {},
     "output_type": "display_data"
    }
   ],
   "source": [
    "permits.dropna(subset=['site_location'], inplace=True)\n",
    "\n",
    "permits['Coordinates'] = permits['site_location'].map(lambda x: x.split('\\n')[-1])\n",
    "permits['Coordinates'].replace('', np.nan, inplace=True)\n",
    "permits.dropna(subset=['Coordinates'], inplace=True)\n",
    "\n",
    "permits['Latitude'] = permits['Coordinates'].map(lambda x: x.split(',')[0][1:].strip()).astype(np.float)\n",
    "permits['Longitude'] = permits['Coordinates'].map(lambda x: x.split(',')[1][:-1].strip()).astype(np.float)\n",
    "permits = permits[(permits['Latitude'] >= 42.26) & (permits['Latitude'] <= 42.45)]\n",
    "permits = permits[(permits['Longitude'] >= -83.29) & (permits['Longitude'] <= -82.91)]\n",
    "\n",
    "sns.lmplot('Longitude', 'Latitude', data=permits, fit_reg=False)"
   ]
  },
  {
   "cell_type": "code",
   "execution_count": 8,
   "metadata": {
    "collapsed": false
   },
   "outputs": [
    {
     "data": {
      "text/html": [
       "<div>\n",
       "<table border=\"1\" class=\"dataframe\">\n",
       "  <thead>\n",
       "    <tr style=\"text-align: right;\">\n",
       "      <th></th>\n",
       "      <th>PERMIT_NO</th>\n",
       "      <th>PERMIT_APPLIED</th>\n",
       "      <th>PERMIT_ISSUED</th>\n",
       "      <th>PERMIT_EXPIRES</th>\n",
       "      <th>SITE_ADDRESS</th>\n",
       "      <th>BETWEEN1</th>\n",
       "      <th>PARCEL_NO</th>\n",
       "      <th>LOT_NUMBER</th>\n",
       "      <th>SUBDIVISION</th>\n",
       "      <th>CASE_TYPE</th>\n",
       "      <th>CASE_DESCRIPTION</th>\n",
       "      <th>LEGAL_USE</th>\n",
       "      <th>ESTIMATED_COST</th>\n",
       "      <th>PARCEL_SIZE</th>\n",
       "      <th>PARCEL_CLUSTER_SECTOR</th>\n",
       "      <th>STORIES</th>\n",
       "      <th>PARCEL_FLOOR_AREA</th>\n",
       "      <th>PARCEL_GROUND_AREA</th>\n",
       "      <th>PRC_AKA_ADDRESS</th>\n",
       "      <th>BLD_PERMIT_TYPE</th>\n",
       "      <th>PERMIT_DESCRIPTION</th>\n",
       "      <th>BLD_PERMIT_DESC</th>\n",
       "      <th>BLD_TYPE_USE</th>\n",
       "      <th>RESIDENTIAL</th>\n",
       "      <th>DESCRIPTION</th>\n",
       "      <th>BLD_TYPE_CONST_COD</th>\n",
       "      <th>BLD_ZONING_DIST</th>\n",
       "      <th>BLD_USE_GROUP</th>\n",
       "      <th>BLD_BASEMENT</th>\n",
       "      <th>FEE_TYPE</th>\n",
       "      <th>CSM_CASENO</th>\n",
       "      <th>CSF_CREATED_BY</th>\n",
       "      <th>SEQ_NO</th>\n",
       "      <th>PCF_AMT_PD</th>\n",
       "      <th>PCF_AMT_DUE</th>\n",
       "      <th>PCF_UPDATED</th>\n",
       "      <th>OWNER_LAST_NAME</th>\n",
       "      <th>OWNER_FIRST_NAME</th>\n",
       "      <th>OWNER_ADDRESS1</th>\n",
       "      <th>OWNER_ADDRESS2</th>\n",
       "      <th>OWNER_CITY</th>\n",
       "      <th>OWNER_STATE</th>\n",
       "      <th>OWNER_ZIP</th>\n",
       "      <th>CONTRACTOR_LAST_NAME</th>\n",
       "      <th>CONTRACTOR_FIRST_NAME</th>\n",
       "      <th>CONTRACTOR_ADDRESS1</th>\n",
       "      <th>CONTRACTOR_ADDRESS2</th>\n",
       "      <th>CONTRACTOR_CITY</th>\n",
       "      <th>CONTRACTOR_STATE</th>\n",
       "      <th>CONTRACTOR_ZIP</th>\n",
       "      <th>CONDITION_FOR_APPROVAL</th>\n",
       "      <th>site_location</th>\n",
       "      <th>owner_location</th>\n",
       "      <th>contractor_location</th>\n",
       "      <th>geom</th>\n",
       "      <th>unique_id</th>\n",
       "      <th>Coordinates</th>\n",
       "      <th>Latitude</th>\n",
       "      <th>Longitude</th>\n",
       "      <th>BuildingID</th>\n",
       "    </tr>\n",
       "  </thead>\n",
       "  <tbody>\n",
       "    <tr>\n",
       "      <th>0</th>\n",
       "      <td>BLD2015-03955</td>\n",
       "      <td>8/28/15</td>\n",
       "      <td>8/28/15</td>\n",
       "      <td>NaN</td>\n",
       "      <td>4331  BARHAM</td>\n",
       "      <td>BETWEEN VOIGHT AND WAVENEY</td>\n",
       "      <td>21 65525-6</td>\n",
       "      <td>S15</td>\n",
       "      <td>NaN</td>\n",
       "      <td>BLD</td>\n",
       "      <td>Building Permit</td>\n",
       "      <td>I - FAM DWLG</td>\n",
       "      <td>NaN</td>\n",
       "      <td>5184.0</td>\n",
       "      <td>3.0</td>\n",
       "      <td>NaN</td>\n",
       "      <td>0.0</td>\n",
       "      <td>829.0</td>\n",
       "      <td>NaN</td>\n",
       "      <td>Dismantle</td>\n",
       "      <td>NaN</td>\n",
       "      <td>NaN</td>\n",
       "      <td>One Family Dwelling</td>\n",
       "      <td>RESIDENTIAL</td>\n",
       "      <td>NaN</td>\n",
       "      <td>5B</td>\n",
       "      <td>R2</td>\n",
       "      <td>R3</td>\n",
       "      <td>Y</td>\n",
       "      <td>WPMT</td>\n",
       "      <td>BLD2015-03955</td>\n",
       "      <td>RSA</td>\n",
       "      <td>1</td>\n",
       "      <td>NaN</td>\n",
       "      <td>$238.00</td>\n",
       "      <td>NaN</td>\n",
       "      <td>DETROIT LAND BANK-HHF2</td>\n",
       "      <td>NaN</td>\n",
       "      <td>65 CADILLAC</td>\n",
       "      <td>NaN</td>\n",
       "      <td>DETROIT</td>\n",
       "      <td>MI</td>\n",
       "      <td>NaN</td>\n",
       "      <td>DMC CONSULTANTS INC   2015 (W)</td>\n",
       "      <td>NaN</td>\n",
       "      <td>13500 FOLEY</td>\n",
       "      <td>NaN</td>\n",
       "      <td>DETROIT</td>\n",
       "      <td>NaN</td>\n",
       "      <td>48227.0</td>\n",
       "      <td>NaN</td>\n",
       "      <td>4331 BARHAM\\nDetroit, MI\\n(42.394106, -82.9474)</td>\n",
       "      <td>65 CADILLAC\\nDETROIT, MI\\n(42.331741326000042,...</td>\n",
       "      <td>13500 FOLEY\\nDETROIT, MI\\n(42.379332, -83.177501)</td>\n",
       "      <td>NaN</td>\n",
       "      <td>0</td>\n",
       "      <td>(42.394106, -82.9474)</td>\n",
       "      <td>42.394106</td>\n",
       "      <td>-82.9474</td>\n",
       "      <td>dpt10mx</td>\n",
       "    </tr>\n",
       "  </tbody>\n",
       "</table>\n",
       "</div>"
      ],
      "text/plain": [
       "       PERMIT_NO PERMIT_APPLIED PERMIT_ISSUED PERMIT_EXPIRES  SITE_ADDRESS  \\\n",
       "0  BLD2015-03955        8/28/15       8/28/15            NaN  4331  BARHAM   \n",
       "\n",
       "                     BETWEEN1   PARCEL_NO LOT_NUMBER SUBDIVISION CASE_TYPE  \\\n",
       "0  BETWEEN VOIGHT AND WAVENEY  21 65525-6        S15         NaN       BLD   \n",
       "\n",
       "  CASE_DESCRIPTION     LEGAL_USE ESTIMATED_COST  PARCEL_SIZE  \\\n",
       "0  Building Permit  I - FAM DWLG            NaN       5184.0   \n",
       "\n",
       "   PARCEL_CLUSTER_SECTOR  STORIES  PARCEL_FLOOR_AREA  PARCEL_GROUND_AREA  \\\n",
       "0                    3.0      NaN                0.0               829.0   \n",
       "\n",
       "  PRC_AKA_ADDRESS BLD_PERMIT_TYPE PERMIT_DESCRIPTION BLD_PERMIT_DESC  \\\n",
       "0             NaN       Dismantle                NaN             NaN   \n",
       "\n",
       "          BLD_TYPE_USE  RESIDENTIAL DESCRIPTION BLD_TYPE_CONST_COD  \\\n",
       "0  One Family Dwelling  RESIDENTIAL         NaN                 5B   \n",
       "\n",
       "  BLD_ZONING_DIST BLD_USE_GROUP BLD_BASEMENT FEE_TYPE     CSM_CASENO  \\\n",
       "0              R2            R3            Y     WPMT  BLD2015-03955   \n",
       "\n",
       "  CSF_CREATED_BY  SEQ_NO PCF_AMT_PD PCF_AMT_DUE PCF_UPDATED  \\\n",
       "0            RSA       1        NaN     $238.00         NaN   \n",
       "\n",
       "          OWNER_LAST_NAME OWNER_FIRST_NAME OWNER_ADDRESS1 OWNER_ADDRESS2  \\\n",
       "0  DETROIT LAND BANK-HHF2              NaN    65 CADILLAC            NaN   \n",
       "\n",
       "  OWNER_CITY OWNER_STATE OWNER_ZIP            CONTRACTOR_LAST_NAME  \\\n",
       "0    DETROIT          MI       NaN  DMC CONSULTANTS INC   2015 (W)   \n",
       "\n",
       "  CONTRACTOR_FIRST_NAME CONTRACTOR_ADDRESS1 CONTRACTOR_ADDRESS2  \\\n",
       "0                   NaN         13500 FOLEY                 NaN   \n",
       "\n",
       "  CONTRACTOR_CITY CONTRACTOR_STATE  CONTRACTOR_ZIP CONDITION_FOR_APPROVAL  \\\n",
       "0         DETROIT              NaN         48227.0                    NaN   \n",
       "\n",
       "                                     site_location  \\\n",
       "0  4331 BARHAM\\nDetroit, MI\\n(42.394106, -82.9474)   \n",
       "\n",
       "                                      owner_location  \\\n",
       "0  65 CADILLAC\\nDETROIT, MI\\n(42.331741326000042,...   \n",
       "\n",
       "                                 contractor_location geom  unique_id  \\\n",
       "0  13500 FOLEY\\nDETROIT, MI\\n(42.379332, -83.177501)  NaN          0   \n",
       "\n",
       "             Coordinates   Latitude  Longitude BuildingID  \n",
       "0  (42.394106, -82.9474)  42.394106   -82.9474    dpt10mx  "
      ]
     },
     "execution_count": 8,
     "metadata": {},
     "output_type": "execute_result"
    }
   ],
   "source": [
    "permits['BuildingID'] = permits.apply(lambda row: pgh.encode(row['Latitude'], row['Longitude'], precision=7), axis=1)\n",
    "permits.head(1)"
   ]
  },
  {
   "cell_type": "markdown",
   "metadata": {},
   "source": [
    "### Violations"
   ]
  },
  {
   "cell_type": "code",
   "execution_count": 9,
   "metadata": {
    "collapsed": false
   },
   "outputs": [
    {
     "data": {
      "text/html": [
       "<div>\n",
       "<table border=\"1\" class=\"dataframe\">\n",
       "  <thead>\n",
       "    <tr style=\"text-align: right;\">\n",
       "      <th></th>\n",
       "      <th>TicketID</th>\n",
       "      <th>TicketNumber</th>\n",
       "      <th>AgencyName</th>\n",
       "      <th>ViolName</th>\n",
       "      <th>ViolationStreetNumber</th>\n",
       "      <th>ViolationStreetName</th>\n",
       "      <th>MailingStreetNumber</th>\n",
       "      <th>MailingStreetName</th>\n",
       "      <th>MailingCity</th>\n",
       "      <th>MailingState</th>\n",
       "      <th>MailingZipCode</th>\n",
       "      <th>NonUsAddressCode</th>\n",
       "      <th>Country</th>\n",
       "      <th>TicketIssuedDT</th>\n",
       "      <th>TicketIssuedTime</th>\n",
       "      <th>HearingDT</th>\n",
       "      <th>CourtTime</th>\n",
       "      <th>ViolationCode</th>\n",
       "      <th>ViolDescription</th>\n",
       "      <th>Disposition</th>\n",
       "      <th>FineAmt</th>\n",
       "      <th>AdminFee</th>\n",
       "      <th>LateFee</th>\n",
       "      <th>StateFee</th>\n",
       "      <th>CleanUpCost</th>\n",
       "      <th>JudgmentAmt</th>\n",
       "      <th>PaymentStatus</th>\n",
       "      <th>Void</th>\n",
       "      <th>ViolationCategory</th>\n",
       "      <th>ViolationAddress</th>\n",
       "      <th>MailingAddress</th>\n",
       "      <th>unique_id</th>\n",
       "    </tr>\n",
       "  </thead>\n",
       "  <tbody>\n",
       "    <tr>\n",
       "      <th>0</th>\n",
       "      <td>26288</td>\n",
       "      <td>05000001DAH</td>\n",
       "      <td>Department of Public Works</td>\n",
       "      <td>Group, LLC, Grand Holding</td>\n",
       "      <td>2566</td>\n",
       "      <td>GRAND BLVD</td>\n",
       "      <td>743</td>\n",
       "      <td>Beaubien, Ste. 201</td>\n",
       "      <td>Detroit</td>\n",
       "      <td>MI</td>\n",
       "      <td>48226</td>\n",
       "      <td>NaN</td>\n",
       "      <td>NaN</td>\n",
       "      <td>01/01/38440 12:00:00 AM</td>\n",
       "      <td>12:00:00</td>\n",
       "      <td>01/01/38474 12:00:00 AM</td>\n",
       "      <td>9:00AM</td>\n",
       "      <td>22-2-20</td>\n",
       "      <td>Burning solid waste  in open fires</td>\n",
       "      <td>Responsible By Determination</td>\n",
       "      <td>$1500.00</td>\n",
       "      <td>$20.00</td>\n",
       "      <td>$150.00</td>\n",
       "      <td>$10.00</td>\n",
       "      <td>$0.00</td>\n",
       "      <td>$1680.00</td>\n",
       "      <td>PAID IN FULL</td>\n",
       "      <td>0.0</td>\n",
       "      <td>0</td>\n",
       "      <td>2566 GRAND BLVD\\nDetroit, MI\\n(42.363182370000...</td>\n",
       "      <td>743 Beaubien\\nDetroit, MI 48226\\n(42.333730630...</td>\n",
       "      <td>7133</td>\n",
       "    </tr>\n",
       "  </tbody>\n",
       "</table>\n",
       "</div>"
      ],
      "text/plain": [
       "   TicketID TicketNumber                  AgencyName  \\\n",
       "0     26288  05000001DAH  Department of Public Works   \n",
       "\n",
       "                    ViolName  ViolationStreetNumber ViolationStreetName  \\\n",
       "0  Group, LLC, Grand Holding                   2566    GRAND BLVD         \n",
       "\n",
       "  MailingStreetNumber   MailingStreetName MailingCity MailingState  \\\n",
       "0                 743  Beaubien, Ste. 201     Detroit           MI   \n",
       "\n",
       "  MailingZipCode NonUsAddressCode Country           TicketIssuedDT  \\\n",
       "0          48226              NaN     NaN  01/01/38440 12:00:00 AM   \n",
       "\n",
       "  TicketIssuedTime                HearingDT CourtTime ViolationCode  \\\n",
       "0         12:00:00  01/01/38474 12:00:00 AM    9:00AM       22-2-20   \n",
       "\n",
       "                      ViolDescription                   Disposition   FineAmt  \\\n",
       "0  Burning solid waste  in open fires  Responsible By Determination  $1500.00   \n",
       "\n",
       "  AdminFee  LateFee StateFee CleanUpCost JudgmentAmt PaymentStatus  Void  \\\n",
       "0   $20.00  $150.00   $10.00       $0.00    $1680.00  PAID IN FULL   0.0   \n",
       "\n",
       "   ViolationCategory                                   ViolationAddress  \\\n",
       "0                  0  2566 GRAND BLVD\\nDetroit, MI\\n(42.363182370000...   \n",
       "\n",
       "                                      MailingAddress  unique_id  \n",
       "0  743 Beaubien\\nDetroit, MI 48226\\n(42.333730630...       7133  "
      ]
     },
     "execution_count": 9,
     "metadata": {},
     "output_type": "execute_result"
    }
   ],
   "source": [
    "violations.head(1)"
   ]
  },
  {
   "cell_type": "code",
   "execution_count": 10,
   "metadata": {
    "collapsed": false
   },
   "outputs": [
    {
     "data": {
      "text/plain": [
       "<seaborn.axisgrid.FacetGrid at 0x294396aacf8>"
      ]
     },
     "execution_count": 10,
     "metadata": {},
     "output_type": "execute_result"
    },
    {
     "data": {
      "image/png": "[encoded data removed]",
      "text/plain": [
       "<matplotlib.figure.Figure at 0x294396aab70>"
      ]
     },
     "metadata": {},
     "output_type": "display_data"
    }
   ],
   "source": [
    "violations.dropna(subset=['ViolationAddress'], inplace=True)\n",
    "violations['Coordinates'] = violations['ViolationAddress'].apply(lambda x: x.split('\\n')[-1])\n",
    "violations['Coordinates'].replace('', np.nan, inplace=True)\n",
    "violations.dropna(subset=['Coordinates'], inplace=True)\n",
    "\n",
    "violations['Latitude'] = violations['Coordinates'].apply(lambda x: x.split(',')[0][1:].strip()).astype(np.float)\n",
    "violations['Longitude'] = violations['Coordinates'].apply(lambda x: x.split(',')[1][:-1].strip()).astype(np.float)\n",
    "violations = violations[(violations['Latitude'] >= 42.26) & (violations['Latitude'] <= 42.45)]\n",
    "violations = violations[(violations['Longitude'] >= -83.29) & (violations['Longitude'] <= -82.91)]\n",
    "\n",
    "sns.lmplot('Longitude', 'Latitude', data=violations, fit_reg=False)"
   ]
  },
  {
   "cell_type": "code",
   "execution_count": 11,
   "metadata": {
    "collapsed": false
   },
   "outputs": [
    {
     "data": {
      "text/html": [
       "<div>\n",
       "<table border=\"1\" class=\"dataframe\">\n",
       "  <thead>\n",
       "    <tr style=\"text-align: right;\">\n",
       "      <th></th>\n",
       "      <th>TicketID</th>\n",
       "      <th>TicketNumber</th>\n",
       "      <th>AgencyName</th>\n",
       "      <th>ViolName</th>\n",
       "      <th>ViolationStreetNumber</th>\n",
       "      <th>ViolationStreetName</th>\n",
       "      <th>MailingStreetNumber</th>\n",
       "      <th>MailingStreetName</th>\n",
       "      <th>MailingCity</th>\n",
       "      <th>MailingState</th>\n",
       "      <th>MailingZipCode</th>\n",
       "      <th>NonUsAddressCode</th>\n",
       "      <th>Country</th>\n",
       "      <th>TicketIssuedDT</th>\n",
       "      <th>TicketIssuedTime</th>\n",
       "      <th>HearingDT</th>\n",
       "      <th>CourtTime</th>\n",
       "      <th>ViolationCode</th>\n",
       "      <th>ViolDescription</th>\n",
       "      <th>Disposition</th>\n",
       "      <th>FineAmt</th>\n",
       "      <th>AdminFee</th>\n",
       "      <th>LateFee</th>\n",
       "      <th>StateFee</th>\n",
       "      <th>CleanUpCost</th>\n",
       "      <th>JudgmentAmt</th>\n",
       "      <th>PaymentStatus</th>\n",
       "      <th>Void</th>\n",
       "      <th>ViolationCategory</th>\n",
       "      <th>ViolationAddress</th>\n",
       "      <th>MailingAddress</th>\n",
       "      <th>unique_id</th>\n",
       "      <th>Coordinates</th>\n",
       "      <th>Latitude</th>\n",
       "      <th>Longitude</th>\n",
       "      <th>BuildingID</th>\n",
       "    </tr>\n",
       "  </thead>\n",
       "  <tbody>\n",
       "    <tr>\n",
       "      <th>0</th>\n",
       "      <td>26288</td>\n",
       "      <td>05000001DAH</td>\n",
       "      <td>Department of Public Works</td>\n",
       "      <td>Group, LLC, Grand Holding</td>\n",
       "      <td>2566</td>\n",
       "      <td>GRAND BLVD</td>\n",
       "      <td>743</td>\n",
       "      <td>Beaubien, Ste. 201</td>\n",
       "      <td>Detroit</td>\n",
       "      <td>MI</td>\n",
       "      <td>48226</td>\n",
       "      <td>NaN</td>\n",
       "      <td>NaN</td>\n",
       "      <td>01/01/38440 12:00:00 AM</td>\n",
       "      <td>12:00:00</td>\n",
       "      <td>01/01/38474 12:00:00 AM</td>\n",
       "      <td>9:00AM</td>\n",
       "      <td>22-2-20</td>\n",
       "      <td>Burning solid waste  in open fires</td>\n",
       "      <td>Responsible By Determination</td>\n",
       "      <td>$1500.00</td>\n",
       "      <td>$20.00</td>\n",
       "      <td>$150.00</td>\n",
       "      <td>$10.00</td>\n",
       "      <td>$0.00</td>\n",
       "      <td>$1680.00</td>\n",
       "      <td>PAID IN FULL</td>\n",
       "      <td>0.0</td>\n",
       "      <td>0</td>\n",
       "      <td>2566 GRAND BLVD\\nDetroit, MI\\n(42.363182370000...</td>\n",
       "      <td>743 Beaubien\\nDetroit, MI 48226\\n(42.333730630...</td>\n",
       "      <td>7133</td>\n",
       "      <td>(42.36318237000006, -83.09167672099994)</td>\n",
       "      <td>42.363182</td>\n",
       "      <td>-83.091677</td>\n",
       "      <td>dpsbvpy</td>\n",
       "    </tr>\n",
       "  </tbody>\n",
       "</table>\n",
       "</div>"
      ],
      "text/plain": [
       "   TicketID TicketNumber                  AgencyName  \\\n",
       "0     26288  05000001DAH  Department of Public Works   \n",
       "\n",
       "                    ViolName  ViolationStreetNumber ViolationStreetName  \\\n",
       "0  Group, LLC, Grand Holding                   2566    GRAND BLVD         \n",
       "\n",
       "  MailingStreetNumber   MailingStreetName MailingCity MailingState  \\\n",
       "0                 743  Beaubien, Ste. 201     Detroit           MI   \n",
       "\n",
       "  MailingZipCode NonUsAddressCode Country           TicketIssuedDT  \\\n",
       "0          48226              NaN     NaN  01/01/38440 12:00:00 AM   \n",
       "\n",
       "  TicketIssuedTime                HearingDT CourtTime ViolationCode  \\\n",
       "0         12:00:00  01/01/38474 12:00:00 AM    9:00AM       22-2-20   \n",
       "\n",
       "                      ViolDescription                   Disposition   FineAmt  \\\n",
       "0  Burning solid waste  in open fires  Responsible By Determination  $1500.00   \n",
       "\n",
       "  AdminFee  LateFee StateFee CleanUpCost JudgmentAmt PaymentStatus  Void  \\\n",
       "0   $20.00  $150.00   $10.00       $0.00    $1680.00  PAID IN FULL   0.0   \n",
       "\n",
       "   ViolationCategory                                   ViolationAddress  \\\n",
       "0                  0  2566 GRAND BLVD\\nDetroit, MI\\n(42.363182370000...   \n",
       "\n",
       "                                      MailingAddress  unique_id  \\\n",
       "0  743 Beaubien\\nDetroit, MI 48226\\n(42.333730630...       7133   \n",
       "\n",
       "                               Coordinates   Latitude  Longitude BuildingID  \n",
       "0  (42.36318237000006, -83.09167672099994)  42.363182 -83.091677    dpsbvpy  "
      ]
     },
     "execution_count": 11,
     "metadata": {},
     "output_type": "execute_result"
    }
   ],
   "source": [
    "violations['BuildingID'] = violations.apply(lambda row: pgh.encode(row['Latitude'], row['Longitude'], precision=7), axis=1)\n",
    "violations.head(1)"
   ]
  },
  {
   "cell_type": "markdown",
   "metadata": {},
   "source": [
    "### Crimes"
   ]
  },
  {
   "cell_type": "code",
   "execution_count": 12,
   "metadata": {
    "collapsed": false,
    "scrolled": true
   },
   "outputs": [
    {
     "data": {
      "text/html": [
       "<div>\n",
       "<table border=\"1\" class=\"dataframe\">\n",
       "  <thead>\n",
       "    <tr style=\"text-align: right;\">\n",
       "      <th></th>\n",
       "      <th>ROWNUM</th>\n",
       "      <th>CASEID</th>\n",
       "      <th>INCINO</th>\n",
       "      <th>CATEGORY</th>\n",
       "      <th>OFFENSEDESCRIPTION</th>\n",
       "      <th>STATEOFFENSEFILECLASS</th>\n",
       "      <th>INCIDENTDATE</th>\n",
       "      <th>HOUR</th>\n",
       "      <th>SCA</th>\n",
       "      <th>PRECINCT</th>\n",
       "      <th>COUNCIL</th>\n",
       "      <th>NEIGHBORHOOD</th>\n",
       "      <th>CENSUSTRACT</th>\n",
       "      <th>ADDRESS</th>\n",
       "      <th>LON</th>\n",
       "      <th>LAT</th>\n",
       "      <th>LOCATION</th>\n",
       "      <th>unique_id</th>\n",
       "    </tr>\n",
       "  </thead>\n",
       "  <tbody>\n",
       "    <tr>\n",
       "      <th>0</th>\n",
       "      <td>53256</td>\n",
       "      <td>1953933</td>\n",
       "      <td>1506030028.1</td>\n",
       "      <td>ASSAULT</td>\n",
       "      <td>ASSAULT AND BATTERY/SIMPLE ASSAULT</td>\n",
       "      <td>13001.0</td>\n",
       "      <td>06/03/2015 12:00:00 AM</td>\n",
       "      <td>2</td>\n",
       "      <td>1007.0</td>\n",
       "      <td>10.0</td>\n",
       "      <td>City Council District 5</td>\n",
       "      <td>PETOSKEY-OTSEGO</td>\n",
       "      <td>5334.0</td>\n",
       "      <td>09100 PETOSKEY</td>\n",
       "      <td>-83.1221</td>\n",
       "      <td>42.3678</td>\n",
       "      <td>PETOSKEY\\n09100\\n(42.3676, -83.1219)</td>\n",
       "      <td>314937</td>\n",
       "    </tr>\n",
       "  </tbody>\n",
       "</table>\n",
       "</div>"
      ],
      "text/plain": [
       "   ROWNUM   CASEID        INCINO CATEGORY                  OFFENSEDESCRIPTION  \\\n",
       "0   53256  1953933  1506030028.1  ASSAULT  ASSAULT AND BATTERY/SIMPLE ASSAULT   \n",
       "\n",
       "   STATEOFFENSEFILECLASS            INCIDENTDATE  HOUR     SCA  PRECINCT  \\\n",
       "0                13001.0  06/03/2015 12:00:00 AM     2  1007.0      10.0   \n",
       "\n",
       "                   COUNCIL     NEIGHBORHOOD  CENSUSTRACT         ADDRESS  \\\n",
       "0  City Council District 5  PETOSKEY-OTSEGO       5334.0  09100 PETOSKEY   \n",
       "\n",
       "       LON      LAT                              LOCATION  unique_id  \n",
       "0 -83.1221  42.3678  PETOSKEY\\n09100\\n(42.3676, -83.1219)     314937  "
      ]
     },
     "execution_count": 12,
     "metadata": {},
     "output_type": "execute_result"
    }
   ],
   "source": [
    "crimes.head(1)"
   ]
  },
  {
   "cell_type": "code",
   "execution_count": 13,
   "metadata": {
    "collapsed": false
   },
   "outputs": [
    {
     "data": {
      "text/plain": [
       "<seaborn.axisgrid.FacetGrid at 0x294550a5ef0>"
      ]
     },
     "execution_count": 13,
     "metadata": {},
     "output_type": "execute_result"
    },
    {
     "data": {
      "image/png": "[encoded data removed]",
      "text/plain": [
       "<matplotlib.figure.Figure at 0x29454476048>"
      ]
     },
     "metadata": {},
     "output_type": "display_data"
    }
   ],
   "source": [
    "crimes['Coordinates'] = crimes['LOCATION'].map(lambda x: x.split('\\n')[-1])\n",
    "crimes['Coordinates'] = crimes['Coordinates'].replace('', np.nan)\n",
    "crimes.dropna(subset=['Coordinates'], inplace=True)\n",
    "\n",
    "crimes['Latitude'] = crimes['Coordinates'].map(lambda x: x.split(',')[0][1:].strip()).astype(np.float)\n",
    "crimes['Longitude'] = crimes['Coordinates'].map(lambda x: x.split(',')[1][:-1].strip()).astype(np.float)\n",
    "crimes = crimes[(crimes['Latitude'] >= 42.26) & (crimes['Latitude'] <= 42.45)]\n",
    "crimes = crimes[(crimes['Longitude'] >= -83.29) & (crimes['Longitude'] <= -82.91)]\n",
    "\n",
    "sns.lmplot('Longitude', 'Latitude', data=crimes, fit_reg=False)"
   ]
  },
  {
   "cell_type": "code",
   "execution_count": 14,
   "metadata": {
    "collapsed": false
   },
   "outputs": [
    {
     "data": {
      "text/html": [
       "<div>\n",
       "<table border=\"1\" class=\"dataframe\">\n",
       "  <thead>\n",
       "    <tr style=\"text-align: right;\">\n",
       "      <th></th>\n",
       "      <th>ROWNUM</th>\n",
       "      <th>CASEID</th>\n",
       "      <th>INCINO</th>\n",
       "      <th>CATEGORY</th>\n",
       "      <th>OFFENSEDESCRIPTION</th>\n",
       "      <th>STATEOFFENSEFILECLASS</th>\n",
       "      <th>INCIDENTDATE</th>\n",
       "      <th>HOUR</th>\n",
       "      <th>SCA</th>\n",
       "      <th>PRECINCT</th>\n",
       "      <th>COUNCIL</th>\n",
       "      <th>NEIGHBORHOOD</th>\n",
       "      <th>CENSUSTRACT</th>\n",
       "      <th>ADDRESS</th>\n",
       "      <th>LON</th>\n",
       "      <th>LAT</th>\n",
       "      <th>LOCATION</th>\n",
       "      <th>unique_id</th>\n",
       "      <th>Coordinates</th>\n",
       "      <th>Latitude</th>\n",
       "      <th>Longitude</th>\n",
       "      <th>BuildingID</th>\n",
       "    </tr>\n",
       "  </thead>\n",
       "  <tbody>\n",
       "    <tr>\n",
       "      <th>0</th>\n",
       "      <td>53256</td>\n",
       "      <td>1953933</td>\n",
       "      <td>1506030028.1</td>\n",
       "      <td>ASSAULT</td>\n",
       "      <td>ASSAULT AND BATTERY/SIMPLE ASSAULT</td>\n",
       "      <td>13001.0</td>\n",
       "      <td>06/03/2015 12:00:00 AM</td>\n",
       "      <td>2</td>\n",
       "      <td>1007.0</td>\n",
       "      <td>10.0</td>\n",
       "      <td>City Council District 5</td>\n",
       "      <td>PETOSKEY-OTSEGO</td>\n",
       "      <td>5334.0</td>\n",
       "      <td>09100 PETOSKEY</td>\n",
       "      <td>-83.1221</td>\n",
       "      <td>42.3678</td>\n",
       "      <td>PETOSKEY\\n09100\\n(42.3676, -83.1219)</td>\n",
       "      <td>314937</td>\n",
       "      <td>(42.3676, -83.1219)</td>\n",
       "      <td>42.3676</td>\n",
       "      <td>-83.1219</td>\n",
       "      <td>dpsch8b</td>\n",
       "    </tr>\n",
       "  </tbody>\n",
       "</table>\n",
       "</div>"
      ],
      "text/plain": [
       "   ROWNUM   CASEID        INCINO CATEGORY                  OFFENSEDESCRIPTION  \\\n",
       "0   53256  1953933  1506030028.1  ASSAULT  ASSAULT AND BATTERY/SIMPLE ASSAULT   \n",
       "\n",
       "   STATEOFFENSEFILECLASS            INCIDENTDATE  HOUR     SCA  PRECINCT  \\\n",
       "0                13001.0  06/03/2015 12:00:00 AM     2  1007.0      10.0   \n",
       "\n",
       "                   COUNCIL     NEIGHBORHOOD  CENSUSTRACT         ADDRESS  \\\n",
       "0  City Council District 5  PETOSKEY-OTSEGO       5334.0  09100 PETOSKEY   \n",
       "\n",
       "       LON      LAT                              LOCATION  unique_id  \\\n",
       "0 -83.1221  42.3678  PETOSKEY\\n09100\\n(42.3676, -83.1219)     314937   \n",
       "\n",
       "           Coordinates  Latitude  Longitude BuildingID  \n",
       "0  (42.3676, -83.1219)   42.3676   -83.1219    dpsch8b  "
      ]
     },
     "execution_count": 14,
     "metadata": {},
     "output_type": "execute_result"
    }
   ],
   "source": [
    "crimes['BuildingID'] = crimes.apply(lambda row: pgh.encode(row['Latitude'], row['Longitude'], precision=7), axis=1)\n",
    "crimes.head(1)"
   ]
  },
  {
   "cell_type": "markdown",
   "metadata": {},
   "source": [
    "### 311 Calls"
   ]
  },
  {
   "cell_type": "code",
   "execution_count": 15,
   "metadata": {
    "collapsed": false,
    "scrolled": false
   },
   "outputs": [
    {
     "data": {
      "text/html": [
       "<div>\n",
       "<table border=\"1\" class=\"dataframe\">\n",
       "  <thead>\n",
       "    <tr style=\"text-align: right;\">\n",
       "      <th></th>\n",
       "      <th>ticket_id</th>\n",
       "      <th>city</th>\n",
       "      <th>issue_type</th>\n",
       "      <th>ticket_status</th>\n",
       "      <th>issue_description</th>\n",
       "      <th>rating</th>\n",
       "      <th>ticket_closed_date_time</th>\n",
       "      <th>acknowledged_at</th>\n",
       "      <th>ticket_created_date_time</th>\n",
       "      <th>ticket_last_updated_date_time</th>\n",
       "      <th>address</th>\n",
       "      <th>lat</th>\n",
       "      <th>lng</th>\n",
       "      <th>location</th>\n",
       "      <th>image</th>\n",
       "      <th>unique_id</th>\n",
       "    </tr>\n",
       "  </thead>\n",
       "  <tbody>\n",
       "    <tr>\n",
       "      <th>0</th>\n",
       "      <td>1516722</td>\n",
       "      <td>City of Detroit</td>\n",
       "      <td>Clogged Drain</td>\n",
       "      <td>Acknowledged</td>\n",
       "      <td>Two drains one on each side of street, street ...</td>\n",
       "      <td>3</td>\n",
       "      <td>NaN</td>\n",
       "      <td>03/06/2015 10:03:38 PM</td>\n",
       "      <td>03/06/2015 09:57:52 PM</td>\n",
       "      <td>04/12/2015 01:01:10 AM</td>\n",
       "      <td>13120-13130 Ilene Street Detroit, MI 48238, USA</td>\n",
       "      <td>42.383998</td>\n",
       "      <td>-83.161039</td>\n",
       "      <td>(42.3839977668, -83.1610385642)</td>\n",
       "      <td>NaN</td>\n",
       "      <td>434868</td>\n",
       "    </tr>\n",
       "  </tbody>\n",
       "</table>\n",
       "</div>"
      ],
      "text/plain": [
       "   ticket_id             city     issue_type ticket_status  \\\n",
       "0    1516722  City of Detroit  Clogged Drain  Acknowledged   \n",
       "\n",
       "                                   issue_description  rating  \\\n",
       "0  Two drains one on each side of street, street ...       3   \n",
       "\n",
       "  ticket_closed_date_time         acknowledged_at ticket_created_date_time  \\\n",
       "0                     NaN  03/06/2015 10:03:38 PM   03/06/2015 09:57:52 PM   \n",
       "\n",
       "  ticket_last_updated_date_time  \\\n",
       "0        04/12/2015 01:01:10 AM   \n",
       "\n",
       "                                           address        lat        lng  \\\n",
       "0  13120-13130 Ilene Street Detroit, MI 48238, USA  42.383998 -83.161039   \n",
       "\n",
       "                          location image  unique_id  \n",
       "0  (42.3839977668, -83.1610385642)   NaN     434868  "
      ]
     },
     "execution_count": 15,
     "metadata": {},
     "output_type": "execute_result"
    }
   ],
   "source": [
    "calls.head(1)"
   ]
  },
  {
   "cell_type": "code",
   "execution_count": 16,
   "metadata": {
    "collapsed": false,
    "scrolled": false
   },
   "outputs": [
    {
     "data": {
      "text/plain": [
       "<seaborn.axisgrid.FacetGrid at 0x294527ee160>"
      ]
     },
     "execution_count": 16,
     "metadata": {},
     "output_type": "execute_result"
    },
    {
     "data": {
      "image/png": "[encoded data removed]",
      "text/plain": [
       "<matplotlib.figure.Figure at 0x294527ee198>"
      ]
     },
     "metadata": {},
     "output_type": "display_data"
    }
   ],
   "source": [
    "calls = calls[(calls['lat'] >= 42.26) & (calls['lat'] <= 42.45)]\n",
    "calls = calls[(calls['lng'] >= -83.29) & (calls['lng'] <= -82.91)]\n",
    "\n",
    "sns.lmplot('lng', 'lat', data=calls, fit_reg=False)"
   ]
  },
  {
   "cell_type": "code",
   "execution_count": 17,
   "metadata": {
    "collapsed": false
   },
   "outputs": [
    {
     "data": {
      "text/html": [
       "<div>\n",
       "<table border=\"1\" class=\"dataframe\">\n",
       "  <thead>\n",
       "    <tr style=\"text-align: right;\">\n",
       "      <th></th>\n",
       "      <th>ROWNUM</th>\n",
       "      <th>CASEID</th>\n",
       "      <th>INCINO</th>\n",
       "      <th>CATEGORY</th>\n",
       "      <th>OFFENSEDESCRIPTION</th>\n",
       "      <th>STATEOFFENSEFILECLASS</th>\n",
       "      <th>INCIDENTDATE</th>\n",
       "      <th>HOUR</th>\n",
       "      <th>SCA</th>\n",
       "      <th>PRECINCT</th>\n",
       "      <th>COUNCIL</th>\n",
       "      <th>NEIGHBORHOOD</th>\n",
       "      <th>CENSUSTRACT</th>\n",
       "      <th>ADDRESS</th>\n",
       "      <th>LON</th>\n",
       "      <th>LAT</th>\n",
       "      <th>LOCATION</th>\n",
       "      <th>unique_id</th>\n",
       "      <th>Coordinates</th>\n",
       "      <th>Latitude</th>\n",
       "      <th>Longitude</th>\n",
       "      <th>BuildingID</th>\n",
       "    </tr>\n",
       "  </thead>\n",
       "  <tbody>\n",
       "    <tr>\n",
       "      <th>0</th>\n",
       "      <td>53256</td>\n",
       "      <td>1953933</td>\n",
       "      <td>1506030028.1</td>\n",
       "      <td>ASSAULT</td>\n",
       "      <td>ASSAULT AND BATTERY/SIMPLE ASSAULT</td>\n",
       "      <td>13001.0</td>\n",
       "      <td>06/03/2015 12:00:00 AM</td>\n",
       "      <td>2</td>\n",
       "      <td>1007.0</td>\n",
       "      <td>10.0</td>\n",
       "      <td>City Council District 5</td>\n",
       "      <td>PETOSKEY-OTSEGO</td>\n",
       "      <td>5334.0</td>\n",
       "      <td>09100 PETOSKEY</td>\n",
       "      <td>-83.1221</td>\n",
       "      <td>42.3678</td>\n",
       "      <td>PETOSKEY\\n09100\\n(42.3676, -83.1219)</td>\n",
       "      <td>314937</td>\n",
       "      <td>(42.3676, -83.1219)</td>\n",
       "      <td>42.3676</td>\n",
       "      <td>-83.1219</td>\n",
       "      <td>dpsch8b</td>\n",
       "    </tr>\n",
       "  </tbody>\n",
       "</table>\n",
       "</div>"
      ],
      "text/plain": [
       "   ROWNUM   CASEID        INCINO CATEGORY                  OFFENSEDESCRIPTION  \\\n",
       "0   53256  1953933  1506030028.1  ASSAULT  ASSAULT AND BATTERY/SIMPLE ASSAULT   \n",
       "\n",
       "   STATEOFFENSEFILECLASS            INCIDENTDATE  HOUR     SCA  PRECINCT  \\\n",
       "0                13001.0  06/03/2015 12:00:00 AM     2  1007.0      10.0   \n",
       "\n",
       "                   COUNCIL     NEIGHBORHOOD  CENSUSTRACT         ADDRESS  \\\n",
       "0  City Council District 5  PETOSKEY-OTSEGO       5334.0  09100 PETOSKEY   \n",
       "\n",
       "       LON      LAT                              LOCATION  unique_id  \\\n",
       "0 -83.1221  42.3678  PETOSKEY\\n09100\\n(42.3676, -83.1219)     314937   \n",
       "\n",
       "           Coordinates  Latitude  Longitude BuildingID  \n",
       "0  (42.3676, -83.1219)   42.3676   -83.1219    dpsch8b  "
      ]
     },
     "execution_count": 17,
     "metadata": {},
     "output_type": "execute_result"
    }
   ],
   "source": [
    "calls['BuildingID'] = calls.apply(lambda row: pgh.encode(row['lat'], row['lng'], precision=7), axis=1)\n",
    "crimes.head(1)"
   ]
  },
  {
   "cell_type": "markdown",
   "metadata": {},
   "source": [
    "### Storing the DataFrames"
   ]
  },
  {
   "cell_type": "code",
   "execution_count": 18,
   "metadata": {
    "collapsed": true
   },
   "outputs": [],
   "source": [
    "permits.to_csv('../data/permits.csv', index=False, encoding='utf-8')\n",
    "violations.to_csv('../data/violations.csv', index=False, encoding='utf-8')\n",
    "crimes.to_csv('../data/crimes.csv', index=False, encoding='utf-8')\n",
    "calls.to_csv('../data/calls.csv', index=False, encoding='utf-8')"
   ]
  }
 ],
 "metadata": {
  "anaconda-cloud": {},
  "kernelspec": {
   "display_name": "Python [conda env:sdcnd]",
   "language": "python",
   "name": "conda-env-sdcnd-py"
  },
  "language_info": {
   "codemirror_mode": {
    "name": "ipython",
    "version": 3
   },
   "file_extension": ".py",
   "mimetype": "text/x-python",
   "name": "python",
   "nbconvert_exporter": "python",
   "pygments_lexer": "ipython3",
   "version": "3.5.2"
  }
 },
 "nbformat": 4,
 "nbformat_minor": 0
}
